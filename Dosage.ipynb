{
 "cells": [
  {
   "cell_type": "code",
   "execution_count": 1,
   "metadata": {},
   "outputs": [],
   "source": [
    "import numpy as np\n",
    "import pandas as pd\n",
    "import matplotlib.pyplot as plt\n",
    "import seaborn as sns"
   ]
  },
  {
   "cell_type": "markdown",
   "metadata": {},
   "source": [
    "# Data Analysis on School Dosage"
   ]
  },
  {
   "cell_type": "markdown",
   "metadata": {},
   "source": [
    "1. Acquire\n",
    "2. Prepare\n",
    "3. Explore\n",
    "4. Model\n",
    "5. Deliver"
   ]
  },
  {
   "cell_type": "markdown",
   "metadata": {},
   "source": [
    "Goal: Create a classification model that predicts whether a student is **On track** or **Not on track** based on a student's data profile and school information."
   ]
  },
  {
   "cell_type": "markdown",
   "metadata": {},
   "source": [
    "# Acquire"
   ]
  },
  {
   "cell_type": "code",
   "execution_count": 2,
   "metadata": {},
   "outputs": [],
   "source": [
    "# Use pandas read excel function to load data\n",
    "df = pd.read_excel('Cumulative Monthly Dosage (1).xlsx')"
   ]
  },
  {
   "cell_type": "code",
   "execution_count": 3,
   "metadata": {},
   "outputs": [
    {
     "data": {
      "text/html": [
       "<div>\n",
       "<style scoped>\n",
       "    .dataframe tbody tr th:only-of-type {\n",
       "        vertical-align: middle;\n",
       "    }\n",
       "\n",
       "    .dataframe tbody tr th {\n",
       "        vertical-align: top;\n",
       "    }\n",
       "\n",
       "    .dataframe thead th {\n",
       "        text-align: right;\n",
       "    }\n",
       "</style>\n",
       "<table border=\"1\" class=\"dataframe\">\n",
       "  <thead>\n",
       "    <tr style=\"text-align: right;\">\n",
       "      <th></th>\n",
       "      <th>Monthly_Dosage_Minutes</th>\n",
       "      <th>Month_Year</th>\n",
       "      <th>Section_IA</th>\n",
       "      <th>CY_Student_ID</th>\n",
       "      <th>Student_School_Name</th>\n",
       "      <th>SCHOOL_ID</th>\n",
       "      <th>SITE_NAME</th>\n",
       "      <th>Cumulative_Monthly_Dosage</th>\n",
       "    </tr>\n",
       "  </thead>\n",
       "  <tbody>\n",
       "    <tr>\n",
       "      <th>0</th>\n",
       "      <td>50</td>\n",
       "      <td>2015 09</td>\n",
       "      <td>ELA/Literacy</td>\n",
       "      <td>CY-104230</td>\n",
       "      <td>Winbourne Elementary School</td>\n",
       "      <td>A0232956</td>\n",
       "      <td>Baton Rouge</td>\n",
       "      <td>50</td>\n",
       "    </tr>\n",
       "    <tr>\n",
       "      <th>1</th>\n",
       "      <td>245</td>\n",
       "      <td>2015 10</td>\n",
       "      <td>ELA/Literacy</td>\n",
       "      <td>CY-104230</td>\n",
       "      <td>Winbourne Elementary School</td>\n",
       "      <td>A0232956</td>\n",
       "      <td>Baton Rouge</td>\n",
       "      <td>295</td>\n",
       "    </tr>\n",
       "    <tr>\n",
       "      <th>2</th>\n",
       "      <td>150</td>\n",
       "      <td>2015 11</td>\n",
       "      <td>ELA/Literacy</td>\n",
       "      <td>CY-104230</td>\n",
       "      <td>Winbourne Elementary School</td>\n",
       "      <td>A0232956</td>\n",
       "      <td>Baton Rouge</td>\n",
       "      <td>445</td>\n",
       "    </tr>\n",
       "    <tr>\n",
       "      <th>3</th>\n",
       "      <td>130</td>\n",
       "      <td>2015 12</td>\n",
       "      <td>ELA/Literacy</td>\n",
       "      <td>CY-104230</td>\n",
       "      <td>Winbourne Elementary School</td>\n",
       "      <td>A0232956</td>\n",
       "      <td>Baton Rouge</td>\n",
       "      <td>575</td>\n",
       "    </tr>\n",
       "    <tr>\n",
       "      <th>4</th>\n",
       "      <td>270</td>\n",
       "      <td>2016 01</td>\n",
       "      <td>ELA/Literacy</td>\n",
       "      <td>CY-104230</td>\n",
       "      <td>Winbourne Elementary School</td>\n",
       "      <td>A0232956</td>\n",
       "      <td>Baton Rouge</td>\n",
       "      <td>845</td>\n",
       "    </tr>\n",
       "  </tbody>\n",
       "</table>\n",
       "</div>"
      ],
      "text/plain": [
       "   Monthly_Dosage_Minutes Month_Year    Section_IA CY_Student_ID  \\\n",
       "0                      50    2015 09  ELA/Literacy     CY-104230   \n",
       "1                     245    2015 10  ELA/Literacy     CY-104230   \n",
       "2                     150    2015 11  ELA/Literacy     CY-104230   \n",
       "3                     130    2015 12  ELA/Literacy     CY-104230   \n",
       "4                     270    2016 01  ELA/Literacy     CY-104230   \n",
       "\n",
       "           Student_School_Name SCHOOL_ID    SITE_NAME  \\\n",
       "0  Winbourne Elementary School  A0232956  Baton Rouge   \n",
       "1  Winbourne Elementary School  A0232956  Baton Rouge   \n",
       "2  Winbourne Elementary School  A0232956  Baton Rouge   \n",
       "3  Winbourne Elementary School  A0232956  Baton Rouge   \n",
       "4  Winbourne Elementary School  A0232956  Baton Rouge   \n",
       "\n",
       "   Cumulative_Monthly_Dosage  \n",
       "0                         50  \n",
       "1                        295  \n",
       "2                        445  \n",
       "3                        575  \n",
       "4                        845  "
      ]
     },
     "execution_count": 3,
     "metadata": {},
     "output_type": "execute_result"
    }
   ],
   "source": [
    "# Take a peek at the data\n",
    "df.head()"
   ]
  },
  {
   "cell_type": "markdown",
   "metadata": {},
   "source": [
    "Takeaways:\n",
    "- One row appears to be a log for a student during that month.\n",
    "- All observations take place in the school year 2015-16\n",
    "- `CY_Student_ID` is a unique identifier for the student\n",
    "- `SCHOOL_ID` is a unique identifier for the school\n",
    "- `Cumulative_Monthly_Dosage` is a running total"
   ]
  },
  {
   "cell_type": "code",
   "execution_count": 4,
   "metadata": {},
   "outputs": [
    {
     "name": "stdout",
     "output_type": "stream",
     "text": [
      "<class 'pandas.core.frame.DataFrame'>\n",
      "RangeIndex: 3178 entries, 0 to 3177\n",
      "Data columns (total 8 columns):\n",
      " #   Column                     Non-Null Count  Dtype \n",
      "---  ------                     --------------  ----- \n",
      " 0   Monthly_Dosage_Minutes     3178 non-null   int64 \n",
      " 1   Month_Year                 3178 non-null   object\n",
      " 2   Section_IA                 3178 non-null   object\n",
      " 3   CY_Student_ID              3178 non-null   object\n",
      " 4   Student_School_Name        3178 non-null   object\n",
      " 5   SCHOOL_ID                  3178 non-null   object\n",
      " 6   SITE_NAME                  3178 non-null   object\n",
      " 7   Cumulative_Monthly_Dosage  3178 non-null   int64 \n",
      "dtypes: int64(2), object(6)\n",
      "memory usage: 198.8+ KB\n"
     ]
    }
   ],
   "source": [
    "# Take a look at null counts and data types\n",
    "df.info()"
   ]
  },
  {
   "cell_type": "markdown",
   "metadata": {},
   "source": [
    "Takeaways:\n",
    "- No nulls\n",
    "- `Month_Year` is an object column, rather than a datetime object\n",
    "- There are 3178 rows, but since each student has a record for each month, the final count is likely much lower\n",
    "- Column names are fairly human readable, no need to re-name them\n",
    "- Can create new columns like separating `Month_Year` and inserting school information"
   ]
  },
  {
   "cell_type": "code",
   "execution_count": 5,
   "metadata": {},
   "outputs": [
    {
     "data": {
      "text/html": [
       "<div>\n",
       "<style scoped>\n",
       "    .dataframe tbody tr th:only-of-type {\n",
       "        vertical-align: middle;\n",
       "    }\n",
       "\n",
       "    .dataframe tbody tr th {\n",
       "        vertical-align: top;\n",
       "    }\n",
       "\n",
       "    .dataframe thead th {\n",
       "        text-align: right;\n",
       "    }\n",
       "</style>\n",
       "<table border=\"1\" class=\"dataframe\">\n",
       "  <thead>\n",
       "    <tr style=\"text-align: right;\">\n",
       "      <th></th>\n",
       "      <th>Monthly_Dosage_Minutes</th>\n",
       "      <th>Cumulative_Monthly_Dosage</th>\n",
       "    </tr>\n",
       "  </thead>\n",
       "  <tbody>\n",
       "    <tr>\n",
       "      <th>count</th>\n",
       "      <td>3178.000000</td>\n",
       "      <td>3178.000000</td>\n",
       "    </tr>\n",
       "    <tr>\n",
       "      <th>mean</th>\n",
       "      <td>176.798301</td>\n",
       "      <td>520.978603</td>\n",
       "    </tr>\n",
       "    <tr>\n",
       "      <th>std</th>\n",
       "      <td>127.217625</td>\n",
       "      <td>423.129057</td>\n",
       "    </tr>\n",
       "    <tr>\n",
       "      <th>min</th>\n",
       "      <td>15.000000</td>\n",
       "      <td>15.000000</td>\n",
       "    </tr>\n",
       "    <tr>\n",
       "      <th>25%</th>\n",
       "      <td>85.000000</td>\n",
       "      <td>180.000000</td>\n",
       "    </tr>\n",
       "    <tr>\n",
       "      <th>50%</th>\n",
       "      <td>150.000000</td>\n",
       "      <td>435.000000</td>\n",
       "    </tr>\n",
       "    <tr>\n",
       "      <th>75%</th>\n",
       "      <td>235.000000</td>\n",
       "      <td>765.000000</td>\n",
       "    </tr>\n",
       "    <tr>\n",
       "      <th>max</th>\n",
       "      <td>870.000000</td>\n",
       "      <td>3570.000000</td>\n",
       "    </tr>\n",
       "  </tbody>\n",
       "</table>\n",
       "</div>"
      ],
      "text/plain": [
       "       Monthly_Dosage_Minutes  Cumulative_Monthly_Dosage\n",
       "count             3178.000000                3178.000000\n",
       "mean               176.798301                 520.978603\n",
       "std                127.217625                 423.129057\n",
       "min                 15.000000                  15.000000\n",
       "25%                 85.000000                 180.000000\n",
       "50%                150.000000                 435.000000\n",
       "75%                235.000000                 765.000000\n",
       "max                870.000000                3570.000000"
      ]
     },
     "execution_count": 5,
     "metadata": {},
     "output_type": "execute_result"
    }
   ],
   "source": [
    "# Take a look at numeric columns\n",
    "df.describe()"
   ]
  },
  {
   "cell_type": "markdown",
   "metadata": {},
   "source": [
    "Takeaways:\n",
    "- Since dosage targets are in hours, will need to create a new column that converts these from minutes to hours"
   ]
  },
  {
   "cell_type": "markdown",
   "metadata": {},
   "source": [
    "# Prepare"
   ]
  },
  {
   "cell_type": "code",
   "execution_count": 6,
   "metadata": {},
   "outputs": [
    {
     "data": {
      "text/plain": [
       "(3178, 8)"
      ]
     },
     "execution_count": 6,
     "metadata": {},
     "output_type": "execute_result"
    }
   ],
   "source": [
    "# Look at rows and columns\n",
    "df.shape"
   ]
  },
  {
   "cell_type": "markdown",
   "metadata": {},
   "source": [
    "Initial thoughts:\n",
    "- Will probably end up making two dataframes -- one for ELA/Literacy and one for Math\n",
    "- The number of rows will decrease dramatrically but hopefully there will still be enough to do a train/test split\n",
    "- The number of columns will increase\n",
    "    - Some new columns: `month`, `year`, `percent_on_free_reduced_lunch`, `hours_cumulative_monthly_dosage`, `on_track`, dummy columns for school names"
   ]
  },
  {
   "cell_type": "code",
   "execution_count": 15,
   "metadata": {},
   "outputs": [],
   "source": [
    "# Let's see how many values we have in each column\n",
    "columns = df.columns.to_list()\n",
    "for col in columns:\n",
    "    df[col].value_counts()"
   ]
  },
  {
   "cell_type": "code",
   "execution_count": 8,
   "metadata": {},
   "outputs": [
    {
     "data": {
      "text/plain": [
       "['Monthly_Dosage_Minutes',\n",
       " 'Month_Year',\n",
       " 'Section_IA',\n",
       " 'CY_Student_ID',\n",
       " 'Student_School_Name',\n",
       " 'SCHOOL_ID',\n",
       " 'SITE_NAME',\n",
       " 'Cumulative_Monthly_Dosage']"
      ]
     },
     "execution_count": 8,
     "metadata": {},
     "output_type": "execute_result"
    }
   ],
   "source": [
    "columns"
   ]
  },
  {
   "cell_type": "code",
   "execution_count": 12,
   "metadata": {},
   "outputs": [
    {
     "data": {
      "text/plain": [
       "A0000186    613\n",
       "A0232954    466\n",
       "A0232956    460\n",
       "A0000164    456\n",
       "A0000161    454\n",
       "A0232955    370\n",
       "A0261453    359\n",
       "Name: SCHOOL_ID, dtype: int64"
      ]
     },
     "execution_count": 12,
     "metadata": {},
     "output_type": "execute_result"
    }
   ],
   "source": [
    "df.SCHOOL_ID.value_counts()"
   ]
  },
  {
   "cell_type": "code",
   "execution_count": 18,
   "metadata": {},
   "outputs": [
    {
     "data": {
      "text/plain": [
       "2015 10    570\n",
       "2015 11    541\n",
       "2016 01    531\n",
       "2015 12    514\n",
       "2016 02    496\n",
       "2015 09    399\n",
       "2015 08    127\n",
       "Name: Month_Year, dtype: int64"
      ]
     },
     "execution_count": 18,
     "metadata": {},
     "output_type": "execute_result"
    }
   ],
   "source": [
    "df.Month_Year.value_counts()"
   ]
  },
  {
   "cell_type": "code",
   "execution_count": 20,
   "metadata": {},
   "outputs": [],
   "source": [
    "feb = df[df.Month_Year == '2016 02']"
   ]
  },
  {
   "cell_type": "code",
   "execution_count": 21,
   "metadata": {},
   "outputs": [
    {
     "data": {
      "text/html": [
       "<div>\n",
       "<style scoped>\n",
       "    .dataframe tbody tr th:only-of-type {\n",
       "        vertical-align: middle;\n",
       "    }\n",
       "\n",
       "    .dataframe tbody tr th {\n",
       "        vertical-align: top;\n",
       "    }\n",
       "\n",
       "    .dataframe thead th {\n",
       "        text-align: right;\n",
       "    }\n",
       "</style>\n",
       "<table border=\"1\" class=\"dataframe\">\n",
       "  <thead>\n",
       "    <tr style=\"text-align: right;\">\n",
       "      <th></th>\n",
       "      <th>Monthly_Dosage_Minutes</th>\n",
       "      <th>Month_Year</th>\n",
       "      <th>Section_IA</th>\n",
       "      <th>CY_Student_ID</th>\n",
       "      <th>Student_School_Name</th>\n",
       "      <th>SCHOOL_ID</th>\n",
       "      <th>SITE_NAME</th>\n",
       "      <th>Cumulative_Monthly_Dosage</th>\n",
       "    </tr>\n",
       "  </thead>\n",
       "  <tbody>\n",
       "    <tr>\n",
       "      <th>5</th>\n",
       "      <td>210</td>\n",
       "      <td>2016 02</td>\n",
       "      <td>ELA/Literacy</td>\n",
       "      <td>CY-104230</td>\n",
       "      <td>Winbourne Elementary School</td>\n",
       "      <td>A0232956</td>\n",
       "      <td>Baton Rouge</td>\n",
       "      <td>1055</td>\n",
       "    </tr>\n",
       "    <tr>\n",
       "      <th>15</th>\n",
       "      <td>225</td>\n",
       "      <td>2016 02</td>\n",
       "      <td>Math</td>\n",
       "      <td>CY-158597</td>\n",
       "      <td>Celerity Crestworth</td>\n",
       "      <td>A0261453</td>\n",
       "      <td>Baton Rouge</td>\n",
       "      <td>765</td>\n",
       "    </tr>\n",
       "    <tr>\n",
       "      <th>20</th>\n",
       "      <td>100</td>\n",
       "      <td>2016 02</td>\n",
       "      <td>ELA/Literacy</td>\n",
       "      <td>CY-158598</td>\n",
       "      <td>Celerity Crestworth</td>\n",
       "      <td>A0261453</td>\n",
       "      <td>Baton Rouge</td>\n",
       "      <td>660</td>\n",
       "    </tr>\n",
       "    <tr>\n",
       "      <th>26</th>\n",
       "      <td>20</td>\n",
       "      <td>2016 02</td>\n",
       "      <td>ELA/Literacy</td>\n",
       "      <td>CY-158599</td>\n",
       "      <td>Celerity Crestworth</td>\n",
       "      <td>A0261453</td>\n",
       "      <td>Baton Rouge</td>\n",
       "      <td>1150</td>\n",
       "    </tr>\n",
       "    <tr>\n",
       "      <th>38</th>\n",
       "      <td>45</td>\n",
       "      <td>2016 02</td>\n",
       "      <td>ELA/Literacy</td>\n",
       "      <td>CY-158601</td>\n",
       "      <td>Celerity Crestworth</td>\n",
       "      <td>A0261453</td>\n",
       "      <td>Baton Rouge</td>\n",
       "      <td>1015</td>\n",
       "    </tr>\n",
       "  </tbody>\n",
       "</table>\n",
       "</div>"
      ],
      "text/plain": [
       "    Monthly_Dosage_Minutes Month_Year    Section_IA CY_Student_ID  \\\n",
       "5                      210    2016 02  ELA/Literacy     CY-104230   \n",
       "15                     225    2016 02          Math     CY-158597   \n",
       "20                     100    2016 02  ELA/Literacy     CY-158598   \n",
       "26                      20    2016 02  ELA/Literacy     CY-158599   \n",
       "38                      45    2016 02  ELA/Literacy     CY-158601   \n",
       "\n",
       "            Student_School_Name SCHOOL_ID    SITE_NAME  \\\n",
       "5   Winbourne Elementary School  A0232956  Baton Rouge   \n",
       "15          Celerity Crestworth  A0261453  Baton Rouge   \n",
       "20          Celerity Crestworth  A0261453  Baton Rouge   \n",
       "26          Celerity Crestworth  A0261453  Baton Rouge   \n",
       "38          Celerity Crestworth  A0261453  Baton Rouge   \n",
       "\n",
       "    Cumulative_Monthly_Dosage  \n",
       "5                        1055  \n",
       "15                        765  \n",
       "20                        660  \n",
       "26                       1150  \n",
       "38                       1015  "
      ]
     },
     "execution_count": 21,
     "metadata": {},
     "output_type": "execute_result"
    }
   ],
   "source": [
    "feb.head()"
   ]
  },
  {
   "cell_type": "code",
   "execution_count": 22,
   "metadata": {},
   "outputs": [
    {
     "data": {
      "text/plain": [
       "(496, 8)"
      ]
     },
     "execution_count": 22,
     "metadata": {},
     "output_type": "execute_result"
    }
   ],
   "source": [
    "feb.shape"
   ]
  },
  {
   "cell_type": "code",
   "execution_count": 23,
   "metadata": {},
   "outputs": [],
   "source": [
    "feb_ELA = feb[feb.Section_IA == 'ELA/Literacy']\n",
    "feb_Math = feb[feb.Section_IA == 'Math']"
   ]
  },
  {
   "cell_type": "code",
   "execution_count": 27,
   "metadata": {},
   "outputs": [
    {
     "name": "stdout",
     "output_type": "stream",
     "text": [
      "ELA: (251, 8), Math: (245, 8)\n"
     ]
    }
   ],
   "source": [
    "print(f'ELA: {feb_ELA.shape}, Math: {feb_Math.shape}')"
   ]
  },
  {
   "cell_type": "markdown",
   "metadata": {},
   "source": [
    "# Explore"
   ]
  },
  {
   "cell_type": "code",
   "execution_count": null,
   "metadata": {},
   "outputs": [],
   "source": []
  }
 ],
 "metadata": {
  "kernelspec": {
   "display_name": "Python 3",
   "language": "python",
   "name": "python3"
  },
  "language_info": {
   "codemirror_mode": {
    "name": "ipython",
    "version": 3
   },
   "file_extension": ".py",
   "mimetype": "text/x-python",
   "name": "python",
   "nbconvert_exporter": "python",
   "pygments_lexer": "ipython3",
   "version": "3.8.5"
  }
 },
 "nbformat": 4,
 "nbformat_minor": 4
}
