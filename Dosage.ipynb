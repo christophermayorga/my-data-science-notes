{
 "cells": [
  {
   "cell_type": "code",
   "execution_count": 1,
   "metadata": {},
   "outputs": [],
   "source": [
    "import numpy as np\n",
    "import pandas as pd\n",
    "import matplotlib.pyplot as plt\n",
    "import seaborn as sns"
   ]
  },
  {
   "cell_type": "markdown",
   "metadata": {},
   "source": [
    "# Data Analysis on School Dosage"
   ]
  },
  {
   "cell_type": "markdown",
   "metadata": {},
   "source": [
    "1. Acquire\n",
    "2. Prepare\n",
    "3. Explore\n",
    "4. Model\n",
    "5. Deliver"
   ]
  },
  {
   "cell_type": "markdown",
   "metadata": {},
   "source": [
    "# Acquire"
   ]
  },
  {
   "cell_type": "code",
   "execution_count": 2,
   "metadata": {},
   "outputs": [],
   "source": [
    "df = pd.read_excel('Cumulative Monthly Dosage (1).xlsx')"
   ]
  },
  {
   "cell_type": "code",
   "execution_count": 3,
   "metadata": {},
   "outputs": [
    {
     "data": {
      "text/html": [
       "<div>\n",
       "<style scoped>\n",
       "    .dataframe tbody tr th:only-of-type {\n",
       "        vertical-align: middle;\n",
       "    }\n",
       "\n",
       "    .dataframe tbody tr th {\n",
       "        vertical-align: top;\n",
       "    }\n",
       "\n",
       "    .dataframe thead th {\n",
       "        text-align: right;\n",
       "    }\n",
       "</style>\n",
       "<table border=\"1\" class=\"dataframe\">\n",
       "  <thead>\n",
       "    <tr style=\"text-align: right;\">\n",
       "      <th></th>\n",
       "      <th>Monthly_Dosage_Minutes</th>\n",
       "      <th>Month_Year</th>\n",
       "      <th>Section_IA</th>\n",
       "      <th>CY_Student_ID</th>\n",
       "      <th>Student_School_Name</th>\n",
       "      <th>SCHOOL_ID</th>\n",
       "      <th>SITE_NAME</th>\n",
       "      <th>Cumulative_Monthly_Dosage</th>\n",
       "    </tr>\n",
       "  </thead>\n",
       "  <tbody>\n",
       "    <tr>\n",
       "      <th>0</th>\n",
       "      <td>50</td>\n",
       "      <td>2015 09</td>\n",
       "      <td>ELA/Literacy</td>\n",
       "      <td>CY-104230</td>\n",
       "      <td>Winbourne Elementary School</td>\n",
       "      <td>A0232956</td>\n",
       "      <td>Baton Rouge</td>\n",
       "      <td>50</td>\n",
       "    </tr>\n",
       "    <tr>\n",
       "      <th>1</th>\n",
       "      <td>245</td>\n",
       "      <td>2015 10</td>\n",
       "      <td>ELA/Literacy</td>\n",
       "      <td>CY-104230</td>\n",
       "      <td>Winbourne Elementary School</td>\n",
       "      <td>A0232956</td>\n",
       "      <td>Baton Rouge</td>\n",
       "      <td>295</td>\n",
       "    </tr>\n",
       "    <tr>\n",
       "      <th>2</th>\n",
       "      <td>150</td>\n",
       "      <td>2015 11</td>\n",
       "      <td>ELA/Literacy</td>\n",
       "      <td>CY-104230</td>\n",
       "      <td>Winbourne Elementary School</td>\n",
       "      <td>A0232956</td>\n",
       "      <td>Baton Rouge</td>\n",
       "      <td>445</td>\n",
       "    </tr>\n",
       "    <tr>\n",
       "      <th>3</th>\n",
       "      <td>130</td>\n",
       "      <td>2015 12</td>\n",
       "      <td>ELA/Literacy</td>\n",
       "      <td>CY-104230</td>\n",
       "      <td>Winbourne Elementary School</td>\n",
       "      <td>A0232956</td>\n",
       "      <td>Baton Rouge</td>\n",
       "      <td>575</td>\n",
       "    </tr>\n",
       "    <tr>\n",
       "      <th>4</th>\n",
       "      <td>270</td>\n",
       "      <td>2016 01</td>\n",
       "      <td>ELA/Literacy</td>\n",
       "      <td>CY-104230</td>\n",
       "      <td>Winbourne Elementary School</td>\n",
       "      <td>A0232956</td>\n",
       "      <td>Baton Rouge</td>\n",
       "      <td>845</td>\n",
       "    </tr>\n",
       "  </tbody>\n",
       "</table>\n",
       "</div>"
      ],
      "text/plain": [
       "   Monthly_Dosage_Minutes Month_Year    Section_IA CY_Student_ID  \\\n",
       "0                      50    2015 09  ELA/Literacy     CY-104230   \n",
       "1                     245    2015 10  ELA/Literacy     CY-104230   \n",
       "2                     150    2015 11  ELA/Literacy     CY-104230   \n",
       "3                     130    2015 12  ELA/Literacy     CY-104230   \n",
       "4                     270    2016 01  ELA/Literacy     CY-104230   \n",
       "\n",
       "           Student_School_Name SCHOOL_ID    SITE_NAME  \\\n",
       "0  Winbourne Elementary School  A0232956  Baton Rouge   \n",
       "1  Winbourne Elementary School  A0232956  Baton Rouge   \n",
       "2  Winbourne Elementary School  A0232956  Baton Rouge   \n",
       "3  Winbourne Elementary School  A0232956  Baton Rouge   \n",
       "4  Winbourne Elementary School  A0232956  Baton Rouge   \n",
       "\n",
       "   Cumulative_Monthly_Dosage  \n",
       "0                         50  \n",
       "1                        295  \n",
       "2                        445  \n",
       "3                        575  \n",
       "4                        845  "
      ]
     },
     "execution_count": 3,
     "metadata": {},
     "output_type": "execute_result"
    }
   ],
   "source": [
    "df.head()"
   ]
  },
  {
   "cell_type": "code",
   "execution_count": 4,
   "metadata": {},
   "outputs": [
    {
     "name": "stdout",
     "output_type": "stream",
     "text": [
      "<class 'pandas.core.frame.DataFrame'>\n",
      "RangeIndex: 3178 entries, 0 to 3177\n",
      "Data columns (total 8 columns):\n",
      " #   Column                     Non-Null Count  Dtype \n",
      "---  ------                     --------------  ----- \n",
      " 0   Monthly_Dosage_Minutes     3178 non-null   int64 \n",
      " 1   Month_Year                 3178 non-null   object\n",
      " 2   Section_IA                 3178 non-null   object\n",
      " 3   CY_Student_ID              3178 non-null   object\n",
      " 4   Student_School_Name        3178 non-null   object\n",
      " 5   SCHOOL_ID                  3178 non-null   object\n",
      " 6   SITE_NAME                  3178 non-null   object\n",
      " 7   Cumulative_Monthly_Dosage  3178 non-null   int64 \n",
      "dtypes: int64(2), object(6)\n",
      "memory usage: 198.8+ KB\n"
     ]
    }
   ],
   "source": [
    "df.info()"
   ]
  },
  {
   "cell_type": "code",
   "execution_count": 5,
   "metadata": {},
   "outputs": [
    {
     "data": {
      "text/html": [
       "<div>\n",
       "<style scoped>\n",
       "    .dataframe tbody tr th:only-of-type {\n",
       "        vertical-align: middle;\n",
       "    }\n",
       "\n",
       "    .dataframe tbody tr th {\n",
       "        vertical-align: top;\n",
       "    }\n",
       "\n",
       "    .dataframe thead th {\n",
       "        text-align: right;\n",
       "    }\n",
       "</style>\n",
       "<table border=\"1\" class=\"dataframe\">\n",
       "  <thead>\n",
       "    <tr style=\"text-align: right;\">\n",
       "      <th></th>\n",
       "      <th>Monthly_Dosage_Minutes</th>\n",
       "      <th>Cumulative_Monthly_Dosage</th>\n",
       "    </tr>\n",
       "  </thead>\n",
       "  <tbody>\n",
       "    <tr>\n",
       "      <th>count</th>\n",
       "      <td>3178.000000</td>\n",
       "      <td>3178.000000</td>\n",
       "    </tr>\n",
       "    <tr>\n",
       "      <th>mean</th>\n",
       "      <td>176.798301</td>\n",
       "      <td>520.978603</td>\n",
       "    </tr>\n",
       "    <tr>\n",
       "      <th>std</th>\n",
       "      <td>127.217625</td>\n",
       "      <td>423.129057</td>\n",
       "    </tr>\n",
       "    <tr>\n",
       "      <th>min</th>\n",
       "      <td>15.000000</td>\n",
       "      <td>15.000000</td>\n",
       "    </tr>\n",
       "    <tr>\n",
       "      <th>25%</th>\n",
       "      <td>85.000000</td>\n",
       "      <td>180.000000</td>\n",
       "    </tr>\n",
       "    <tr>\n",
       "      <th>50%</th>\n",
       "      <td>150.000000</td>\n",
       "      <td>435.000000</td>\n",
       "    </tr>\n",
       "    <tr>\n",
       "      <th>75%</th>\n",
       "      <td>235.000000</td>\n",
       "      <td>765.000000</td>\n",
       "    </tr>\n",
       "    <tr>\n",
       "      <th>max</th>\n",
       "      <td>870.000000</td>\n",
       "      <td>3570.000000</td>\n",
       "    </tr>\n",
       "  </tbody>\n",
       "</table>\n",
       "</div>"
      ],
      "text/plain": [
       "       Monthly_Dosage_Minutes  Cumulative_Monthly_Dosage\n",
       "count             3178.000000                3178.000000\n",
       "mean               176.798301                 520.978603\n",
       "std                127.217625                 423.129057\n",
       "min                 15.000000                  15.000000\n",
       "25%                 85.000000                 180.000000\n",
       "50%                150.000000                 435.000000\n",
       "75%                235.000000                 765.000000\n",
       "max                870.000000                3570.000000"
      ]
     },
     "execution_count": 5,
     "metadata": {},
     "output_type": "execute_result"
    }
   ],
   "source": [
    "df.describe()"
   ]
  },
  {
   "cell_type": "markdown",
   "metadata": {},
   "source": [
    "# Prepare"
   ]
  },
  {
   "cell_type": "code",
   "execution_count": null,
   "metadata": {},
   "outputs": [],
   "source": []
  }
 ],
 "metadata": {
  "kernelspec": {
   "display_name": "Python 3",
   "language": "python",
   "name": "python3"
  },
  "language_info": {
   "codemirror_mode": {
    "name": "ipython",
    "version": 3
   },
   "file_extension": ".py",
   "mimetype": "text/x-python",
   "name": "python",
   "nbconvert_exporter": "python",
   "pygments_lexer": "ipython3",
   "version": "3.8.5"
  }
 },
 "nbformat": 4,
 "nbformat_minor": 4
}
