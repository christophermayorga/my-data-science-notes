{
 "cells": [
  {
   "cell_type": "markdown",
   "id": "fd11258c-8fbc-4226-a78d-121b5291f794",
   "metadata": {},
   "source": [
    "# Step 1: Request Data\n",
    "Request a copy of your data from Spotify [here](https://www.spotify.com/us/account/privacy/). Be patient and wait a few days. There is probably a way to request this data directly using Spotify’s API but that’s a project for another day!"
   ]
  },
  {
   "cell_type": "code",
   "execution_count": 1,
   "id": "f7c18955-bfd8-455b-b46f-237c7aea225a",
   "metadata": {},
   "outputs": [],
   "source": [
    "import pandas as pd\n",
    "import numpy as np\n",
    "import requests"
   ]
  },
  {
   "cell_type": "markdown",
   "id": "d2f6da9a-98c8-47b1-9896-ddd7d44ad3b3",
   "metadata": {},
   "source": [
    "# Step 2: Prep Streaming/Library Data\n",
    "Using the files Spotify has given us, we will now create one dataframe that includes all our streaming data PLUS whether each song is on our Library PLUS each song’s Spotify ‘URI’ (unique identifier — it’ll come in handy later)"
   ]
  },
  {
   "cell_type": "markdown",
   "id": "4f80b972-bd0e-4177-bdc5-3badb266feec",
   "metadata": {},
   "source": [
    "## Create df_stream:"
   ]
  },
  {
   "cell_type": "code",
   "execution_count": 2,
   "id": "960af6a8-a159-468e-ac35-617d67fa7cc7",
   "metadata": {},
   "outputs": [
    {
     "data": {
      "text/html": [
       "<div>\n",
       "<style scoped>\n",
       "    .dataframe tbody tr th:only-of-type {\n",
       "        vertical-align: middle;\n",
       "    }\n",
       "\n",
       "    .dataframe tbody tr th {\n",
       "        vertical-align: top;\n",
       "    }\n",
       "\n",
       "    .dataframe thead th {\n",
       "        text-align: right;\n",
       "    }\n",
       "</style>\n",
       "<table border=\"1\" class=\"dataframe\">\n",
       "  <thead>\n",
       "    <tr style=\"text-align: right;\">\n",
       "      <th></th>\n",
       "      <th>endTime</th>\n",
       "      <th>artistName</th>\n",
       "      <th>trackName</th>\n",
       "      <th>msPlayed</th>\n",
       "      <th>UniqueID</th>\n",
       "    </tr>\n",
       "  </thead>\n",
       "  <tbody>\n",
       "    <tr>\n",
       "      <th>0</th>\n",
       "      <td>2020-09-22 00:02</td>\n",
       "      <td>halberd</td>\n",
       "      <td>coffee on the beach.</td>\n",
       "      <td>178559</td>\n",
       "      <td>halberd:coffee on the beach.</td>\n",
       "    </tr>\n",
       "    <tr>\n",
       "      <th>1</th>\n",
       "      <td>2020-09-22 00:05</td>\n",
       "      <td>Kota the Friend</td>\n",
       "      <td>Chicago Diner</td>\n",
       "      <td>175037</td>\n",
       "      <td>Kota the Friend:Chicago Diner</td>\n",
       "    </tr>\n",
       "    <tr>\n",
       "      <th>2</th>\n",
       "      <td>2020-09-22 00:08</td>\n",
       "      <td>cupcakKe</td>\n",
       "      <td>Single While Taken</td>\n",
       "      <td>169343</td>\n",
       "      <td>cupcakKe:Single While Taken</td>\n",
       "    </tr>\n",
       "    <tr>\n",
       "      <th>3</th>\n",
       "      <td>2020-09-22 00:12</td>\n",
       "      <td>Smino</td>\n",
       "      <td>Father Son Holy Smoke</td>\n",
       "      <td>240768</td>\n",
       "      <td>Smino:Father Son Holy Smoke</td>\n",
       "    </tr>\n",
       "    <tr>\n",
       "      <th>4</th>\n",
       "      <td>2020-09-22 00:15</td>\n",
       "      <td>Princess Nokia</td>\n",
       "      <td>Felicity Island</td>\n",
       "      <td>188693</td>\n",
       "      <td>Princess Nokia:Felicity Island</td>\n",
       "    </tr>\n",
       "  </tbody>\n",
       "</table>\n",
       "</div>"
      ],
      "text/plain": [
       "            endTime       artistName              trackName  msPlayed  \\\n",
       "0  2020-09-22 00:02          halberd   coffee on the beach.    178559   \n",
       "1  2020-09-22 00:05  Kota the Friend          Chicago Diner    175037   \n",
       "2  2020-09-22 00:08         cupcakKe     Single While Taken    169343   \n",
       "3  2020-09-22 00:12            Smino  Father Son Holy Smoke    240768   \n",
       "4  2020-09-22 00:15   Princess Nokia        Felicity Island    188693   \n",
       "\n",
       "                         UniqueID  \n",
       "0    halberd:coffee on the beach.  \n",
       "1   Kota the Friend:Chicago Diner  \n",
       "2     cupcakKe:Single While Taken  \n",
       "3     Smino:Father Son Holy Smoke  \n",
       "4  Princess Nokia:Felicity Island  "
      ]
     },
     "execution_count": 2,
     "metadata": {},
     "output_type": "execute_result"
    }
   ],
   "source": [
    "# read your 1+ StreamingHistory files (depending on how extensive your streaming history is) into pandas dataframes\n",
    "df_stream = pd.read_json('StreamingHistory0.json')\n",
    "\n",
    "# create a 'UniqueID' for each song by combining the fields 'artistName' and 'trackName'\n",
    "df_stream['UniqueID'] = df_stream['artistName'] + \":\" + df_stream['trackName']\n",
    "\n",
    "df_stream.head()"
   ]
  },
  {
   "cell_type": "markdown",
   "id": "f69b39ed-723b-4713-beb9-12263acdf186",
   "metadata": {},
   "source": [
    "## Create df_library:\n",
    "\n",
    "Next, I cleaned up my ‘YourLibrary’ file from Spotify so that it just contained the “tracks” dictionary, surrounded by brackets [ ] and saved as a new file ‘YourLibrary1'. Someone better at cleaning up json files could likely automate this step and use the original file."
   ]
  },
  {
   "cell_type": "code",
   "execution_count": 3,
   "id": "17de9216-dc5b-4fa6-82db-5d1bf5a11ff8",
   "metadata": {},
   "outputs": [
    {
     "data": {
      "text/html": [
       "<div>\n",
       "<style scoped>\n",
       "    .dataframe tbody tr th:only-of-type {\n",
       "        vertical-align: middle;\n",
       "    }\n",
       "\n",
       "    .dataframe tbody tr th {\n",
       "        vertical-align: top;\n",
       "    }\n",
       "\n",
       "    .dataframe thead th {\n",
       "        text-align: right;\n",
       "    }\n",
       "</style>\n",
       "<table border=\"1\" class=\"dataframe\">\n",
       "  <thead>\n",
       "    <tr style=\"text-align: right;\">\n",
       "      <th></th>\n",
       "      <th>artist</th>\n",
       "      <th>album</th>\n",
       "      <th>track</th>\n",
       "      <th>uri</th>\n",
       "      <th>UniqueID</th>\n",
       "      <th>track_uri</th>\n",
       "    </tr>\n",
       "  </thead>\n",
       "  <tbody>\n",
       "    <tr>\n",
       "      <th>0</th>\n",
       "      <td>Noname</td>\n",
       "      <td>Telefone</td>\n",
       "      <td>All I Need (feat. Xavier Omär)</td>\n",
       "      <td>spotify:track:5SBPdm1dAz7WhgmSQVfOew</td>\n",
       "      <td>Noname:All I Need (feat. Xavier Omär)</td>\n",
       "      <td>5SBPdm1dAz7WhgmSQVfOew</td>\n",
       "    </tr>\n",
       "    <tr>\n",
       "      <th>1</th>\n",
       "      <td>Chance the Rapper</td>\n",
       "      <td>Acid Rap</td>\n",
       "      <td>Chain Smoker</td>\n",
       "      <td>spotify:track:4Jh8aypoHtCqv5GPzZxPsz</td>\n",
       "      <td>Chance the Rapper:Chain Smoker</td>\n",
       "      <td>4Jh8aypoHtCqv5GPzZxPsz</td>\n",
       "    </tr>\n",
       "    <tr>\n",
       "      <th>2</th>\n",
       "      <td>Dua Lipa</td>\n",
       "      <td>Future Nostalgia</td>\n",
       "      <td>Good In Bed</td>\n",
       "      <td>spotify:track:6uAFJ75WDAoAPyCWJAtvks</td>\n",
       "      <td>Dua Lipa:Good In Bed</td>\n",
       "      <td>6uAFJ75WDAoAPyCWJAtvks</td>\n",
       "    </tr>\n",
       "    <tr>\n",
       "      <th>3</th>\n",
       "      <td>cupcakKe</td>\n",
       "      <td>Eden</td>\n",
       "      <td>PetSmart</td>\n",
       "      <td>spotify:track:0Wahp1YAWzaTwt1hYBNefQ</td>\n",
       "      <td>cupcakKe:PetSmart</td>\n",
       "      <td>0Wahp1YAWzaTwt1hYBNefQ</td>\n",
       "    </tr>\n",
       "    <tr>\n",
       "      <th>4</th>\n",
       "      <td>Jhené Aiko</td>\n",
       "      <td>Chilombo</td>\n",
       "      <td>Surrender (feat. Dr. Chill)</td>\n",
       "      <td>spotify:track:1vPw8XDPJLMmIaQGHYQ7Pp</td>\n",
       "      <td>Jhené Aiko:Surrender (feat. Dr. Chill)</td>\n",
       "      <td>1vPw8XDPJLMmIaQGHYQ7Pp</td>\n",
       "    </tr>\n",
       "  </tbody>\n",
       "</table>\n",
       "</div>"
      ],
      "text/plain": [
       "              artist             album                           track  \\\n",
       "0             Noname          Telefone  All I Need (feat. Xavier Omär)   \n",
       "1  Chance the Rapper          Acid Rap                    Chain Smoker   \n",
       "2           Dua Lipa  Future Nostalgia                     Good In Bed   \n",
       "3           cupcakKe              Eden                        PetSmart   \n",
       "4         Jhené Aiko          Chilombo     Surrender (feat. Dr. Chill)   \n",
       "\n",
       "                                    uri  \\\n",
       "0  spotify:track:5SBPdm1dAz7WhgmSQVfOew   \n",
       "1  spotify:track:4Jh8aypoHtCqv5GPzZxPsz   \n",
       "2  spotify:track:6uAFJ75WDAoAPyCWJAtvks   \n",
       "3  spotify:track:0Wahp1YAWzaTwt1hYBNefQ   \n",
       "4  spotify:track:1vPw8XDPJLMmIaQGHYQ7Pp   \n",
       "\n",
       "                                 UniqueID               track_uri  \n",
       "0   Noname:All I Need (feat. Xavier Omär)  5SBPdm1dAz7WhgmSQVfOew  \n",
       "1          Chance the Rapper:Chain Smoker  4Jh8aypoHtCqv5GPzZxPsz  \n",
       "2                    Dua Lipa:Good In Bed  6uAFJ75WDAoAPyCWJAtvks  \n",
       "3                       cupcakKe:PetSmart  0Wahp1YAWzaTwt1hYBNefQ  \n",
       "4  Jhené Aiko:Surrender (feat. Dr. Chill)  1vPw8XDPJLMmIaQGHYQ7Pp  "
      ]
     },
     "execution_count": 3,
     "metadata": {},
     "output_type": "execute_result"
    }
   ],
   "source": [
    "# read your edited Library json file into a pandas dataframe\n",
    "df_library = pd.read_json('YourLibrary1.json')\n",
    "\n",
    "# add UniqueID column (same as above)\n",
    "df_library['UniqueID'] = df_library['artist'] + \":\" + df_library['track']\n",
    "\n",
    "# add column with track URI stripped of 'spotify:track:'\n",
    "new = df_library[\"uri\"].str.split(\":\", expand = True)\n",
    "df_library['track_uri'] = new[2]\n",
    "\n",
    "df_library.head()"
   ]
  },
  {
   "cell_type": "markdown",
   "id": "82e2d357-cc36-46bc-9289-0393b478dc10",
   "metadata": {},
   "source": [
    "## Create our final dataframe, df_tableau:"
   ]
  },
  {
   "cell_type": "code",
   "execution_count": 4,
   "id": "ed64e5e5-f2b1-4fd4-a59c-b5407fd2100d",
   "metadata": {},
   "outputs": [
    {
     "data": {
      "text/html": [
       "<div>\n",
       "<style scoped>\n",
       "    .dataframe tbody tr th:only-of-type {\n",
       "        vertical-align: middle;\n",
       "    }\n",
       "\n",
       "    .dataframe tbody tr th {\n",
       "        vertical-align: top;\n",
       "    }\n",
       "\n",
       "    .dataframe thead th {\n",
       "        text-align: right;\n",
       "    }\n",
       "</style>\n",
       "<table border=\"1\" class=\"dataframe\">\n",
       "  <thead>\n",
       "    <tr style=\"text-align: right;\">\n",
       "      <th></th>\n",
       "      <th>endTime</th>\n",
       "      <th>artistName</th>\n",
       "      <th>trackName</th>\n",
       "      <th>msPlayed</th>\n",
       "      <th>UniqueID</th>\n",
       "      <th>In Library</th>\n",
       "      <th>album</th>\n",
       "      <th>track_uri</th>\n",
       "    </tr>\n",
       "  </thead>\n",
       "  <tbody>\n",
       "    <tr>\n",
       "      <th>0</th>\n",
       "      <td>2020-09-22 00:02</td>\n",
       "      <td>halberd</td>\n",
       "      <td>coffee on the beach.</td>\n",
       "      <td>178559</td>\n",
       "      <td>halberd:coffee on the beach.</td>\n",
       "      <td>0</td>\n",
       "      <td>NaN</td>\n",
       "      <td>NaN</td>\n",
       "    </tr>\n",
       "    <tr>\n",
       "      <th>1</th>\n",
       "      <td>2020-09-22 00:05</td>\n",
       "      <td>Kota the Friend</td>\n",
       "      <td>Chicago Diner</td>\n",
       "      <td>175037</td>\n",
       "      <td>Kota the Friend:Chicago Diner</td>\n",
       "      <td>1</td>\n",
       "      <td>Chicago Diner</td>\n",
       "      <td>1rpQJ5vH0wjL8EtSA7ZITQ</td>\n",
       "    </tr>\n",
       "    <tr>\n",
       "      <th>2</th>\n",
       "      <td>2020-09-22 00:05</td>\n",
       "      <td>Kota the Friend</td>\n",
       "      <td>Chicago Diner</td>\n",
       "      <td>175037</td>\n",
       "      <td>Kota the Friend:Chicago Diner</td>\n",
       "      <td>1</td>\n",
       "      <td>FOTO</td>\n",
       "      <td>4HzltjBAqEhAayGEBX2ZlR</td>\n",
       "    </tr>\n",
       "    <tr>\n",
       "      <th>3</th>\n",
       "      <td>2020-09-22 00:08</td>\n",
       "      <td>cupcakKe</td>\n",
       "      <td>Single While Taken</td>\n",
       "      <td>169343</td>\n",
       "      <td>cupcakKe:Single While Taken</td>\n",
       "      <td>1</td>\n",
       "      <td>Ephorize</td>\n",
       "      <td>0v5tTD8cCbNsuSPdZq4ppU</td>\n",
       "    </tr>\n",
       "    <tr>\n",
       "      <th>4</th>\n",
       "      <td>2020-09-22 00:12</td>\n",
       "      <td>Smino</td>\n",
       "      <td>Father Son Holy Smoke</td>\n",
       "      <td>240768</td>\n",
       "      <td>Smino:Father Son Holy Smoke</td>\n",
       "      <td>1</td>\n",
       "      <td>blkswn</td>\n",
       "      <td>3lWatHvGLP3GU8qvcO1tIu</td>\n",
       "    </tr>\n",
       "  </tbody>\n",
       "</table>\n",
       "</div>"
      ],
      "text/plain": [
       "            endTime       artistName              trackName  msPlayed  \\\n",
       "0  2020-09-22 00:02          halberd   coffee on the beach.    178559   \n",
       "1  2020-09-22 00:05  Kota the Friend          Chicago Diner    175037   \n",
       "2  2020-09-22 00:05  Kota the Friend          Chicago Diner    175037   \n",
       "3  2020-09-22 00:08         cupcakKe     Single While Taken    169343   \n",
       "4  2020-09-22 00:12            Smino  Father Son Holy Smoke    240768   \n",
       "\n",
       "                        UniqueID  In Library          album  \\\n",
       "0   halberd:coffee on the beach.           0            NaN   \n",
       "1  Kota the Friend:Chicago Diner           1  Chicago Diner   \n",
       "2  Kota the Friend:Chicago Diner           1           FOTO   \n",
       "3    cupcakKe:Single While Taken           1       Ephorize   \n",
       "4    Smino:Father Son Holy Smoke           1         blkswn   \n",
       "\n",
       "                track_uri  \n",
       "0                     NaN  \n",
       "1  1rpQJ5vH0wjL8EtSA7ZITQ  \n",
       "2  4HzltjBAqEhAayGEBX2ZlR  \n",
       "3  0v5tTD8cCbNsuSPdZq4ppU  \n",
       "4  3lWatHvGLP3GU8qvcO1tIu  "
      ]
     },
     "execution_count": 4,
     "metadata": {},
     "output_type": "execute_result"
    }
   ],
   "source": [
    "# create final dict as a copy df_stream\n",
    "df_tableau = df_stream.copy()\n",
    "\n",
    "# add column checking if streamed song is in library\n",
    "# not used in this project but could be helpful for cool visualizations\n",
    "df_tableau['In Library'] = np.where(df_tableau['UniqueID'].isin(df_library['UniqueID'].tolist()),1,0)\n",
    "\n",
    "# left join with df_library on UniqueID to bring in album and track_uri\n",
    "df_tableau = pd.merge(df_tableau, df_library[['album','UniqueID','track_uri']],how='left',on=['UniqueID'])\n",
    "\n",
    "df_tableau.head()"
   ]
  },
  {
   "cell_type": "markdown",
   "id": "c157d17f-8da1-4b3b-8bf9-564dbb198cc6",
   "metadata": {},
   "source": [
    "# Step 3: Create New Spotify Project\n",
    "Log into your developer account [here](https://developer.spotify.com/dashboard). In your dashboard, create a new project. Once created, you can retrieve your ‘Client ID’ and ‘Client Secret.’ We’ll use these in Step 4."
   ]
  },
  {
   "cell_type": "markdown",
   "id": "b4076d30-7276-4171-b0c9-182c652bea03",
   "metadata": {},
   "source": [
    "# Step 4: Create Genre Dataframe using Spotify’s API\n",
    "First we’ll use our Client ID and Client Secret to generate an access token so we can pull data from Spotify’s API. Note: this token has to be regenerated after one hour. I figured out how to do this using the help of [this post](https://stmorse.github.io/journal/spotify-api.html)."
   ]
  },
  {
   "cell_type": "code",
   "execution_count": 5,
   "id": "5523e3af-ff7e-4fcf-a065-bdbe67593600",
   "metadata": {},
   "outputs": [],
   "source": [
    "from env import spotify_client_id, spotify_client_secret\n",
    "\n",
    "# save your IDs from new project in Spotify Developer Dashboard\n",
    "CLIENT_ID = spotify_client_id\n",
    "CLIENT_SECRET = spotify_client_secret"
   ]
  },
  {
   "cell_type": "code",
   "execution_count": 6,
   "id": "252a1e95-4bf3-420a-9178-35fc3b298d24",
   "metadata": {},
   "outputs": [],
   "source": [
    "# generate access token\n",
    "\n",
    "# authentication URL\n",
    "AUTH_URL = 'https://accounts.spotify.com/api/token'\n",
    "\n",
    "# POST\n",
    "auth_response = requests.post(AUTH_URL, {\n",
    "    'grant_type': 'client_credentials',\n",
    "    'client_id': CLIENT_ID,\n",
    "    'client_secret': CLIENT_SECRET,\n",
    "})\n",
    "\n",
    "# convert the response to JSON\n",
    "auth_response_data = auth_response.json()\n",
    "\n",
    "# save the access token\n",
    "access_token = auth_response_data['access_token']"
   ]
  },
  {
   "cell_type": "code",
   "execution_count": 7,
   "id": "295c5edc-d24b-4b9b-b020-3a18d1fbd34c",
   "metadata": {},
   "outputs": [],
   "source": [
    "# used for authenticating all API calls\n",
    "headers = {'Authorization': 'Bearer {token}'.format(token=access_token)}"
   ]
  },
  {
   "cell_type": "code",
   "execution_count": 8,
   "id": "06d4a24f-689a-4649-aff4-cbfdc4aa7c34",
   "metadata": {},
   "outputs": [],
   "source": [
    "# base URL of all Spotify API endpoints\n",
    "BASE_URL = 'https://api.spotify.com/v1/'"
   ]
  },
  {
   "cell_type": "markdown",
   "id": "ab760a74-c658-4776-ab80-78e5e66c17bc",
   "metadata": {},
   "source": [
    "Now we’ll pull the artist and genres associated with each track_uri in our library and add to a dictionary *(check out Spotify’s [console](https://developer.spotify.com/console/) to find out how to pull the data points you’re interested in).*"
   ]
  },
  {
   "cell_type": "code",
   "execution_count": null,
   "id": "3ba5755f-5084-4c18-914e-a73f2079572d",
   "metadata": {},
   "outputs": [],
   "source": [
    "# create blank dictionary to store track URI, artist URI, and genres\n",
    "dict_genre = {}\n",
    "\n",
    "# convert track_uri column to an iterable list\n",
    "track_uris = df_library['track_uri'].to_list()\n",
    "\n",
    "# loop through track URIs and pull artist URI using the API,\n",
    "# then use artist URI to pull genres associated with that artist\n",
    "# store all these in a dictionary\n",
    "for t_uri in track_uris:\n",
    "    \n",
    "    dict_genre[t_uri] = {'artist_uri': \"\", \"genres\":[]}\n",
    "    \n",
    "    r = requests.get(BASE_URL + 'tracks/' + t_uri, headers=headers)\n",
    "    r = r.json()\n",
    "    a_uri = r['artists'][0]['uri'].split(':')[2]\n",
    "    dict_genre[t_uri]['artist_uri'] = a_uri\n",
    "    \n",
    "    s = requests.get(BASE_URL + 'artists/' + a_uri, headers=headers)\n",
    "    s = s.json()\n",
    "    dict_genre[t_uri]['genres'] = s['genres']"
   ]
  },
  {
   "cell_type": "markdown",
   "id": "4d44cc70-14a8-4791-bf47-1bab80e75443",
   "metadata": {},
   "source": [
    "We’ll convert this dictionary to a dataframe `df_genre` and expand it so that each genre for each track/artist is in its own line (I used this solution). This will create `df_genre_expanded`."
   ]
  },
  {
   "cell_type": "code",
   "execution_count": null,
   "id": "2610f912-baf4-40aa-aa4c-990cef78cb05",
   "metadata": {},
   "outputs": [],
   "source": [
    "# convert dictionary into dataframe with track_uri as the first column\n",
    "df_genre = pd.DataFrame.from_dict(dict_genre, orient='index')\n",
    "df_genre.insert(0, 'track_uri', df_genre.index)\n",
    "df_genre.reset_index(inplace=True, drop=True)\n",
    "\n",
    "df_genre.head()"
   ]
  },
  {
   "cell_type": "code",
   "execution_count": null,
   "id": "53fcd0d4-70d3-4776-a3aa-e29c10377708",
   "metadata": {},
   "outputs": [],
   "source": [
    "df_genre_expanded = df_genre.explode('genres')\n",
    "df_genre_expanded.head()"
   ]
  },
  {
   "cell_type": "markdown",
   "id": "f3739a04-5b31-498a-946b-ea97bd040fb8",
   "metadata": {},
   "source": [
    "We’ll then save `df_tableau` and `df_genre_expanded` as csv files that we can load into Tableau."
   ]
  },
  {
   "cell_type": "code",
   "execution_count": null,
   "id": "890f1acf-393c-490a-8ebc-f3830edfc682",
   "metadata": {},
   "outputs": [],
   "source": [
    "# save df_tableau and df_genre_expanded as csv files that we can load into Tableau\n",
    "df_tableau.to_csv('MySpotifyDataTable.csv')\n",
    "df_genre_expanded.to_csv('GenresExpandedTable.csv')\n",
    "\n",
    "print('done')"
   ]
  }
 ],
 "metadata": {
  "kernelspec": {
   "display_name": "Python 3 (ipykernel)",
   "language": "python",
   "name": "python3"
  },
  "language_info": {
   "codemirror_mode": {
    "name": "ipython",
    "version": 3
   },
   "file_extension": ".py",
   "mimetype": "text/x-python",
   "name": "python",
   "nbconvert_exporter": "python",
   "pygments_lexer": "ipython3",
   "version": "3.8.5"
  }
 },
 "nbformat": 4,
 "nbformat_minor": 5
}
